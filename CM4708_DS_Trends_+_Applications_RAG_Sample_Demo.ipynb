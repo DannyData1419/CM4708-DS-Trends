{
  "cells": [
    {
      "cell_type": "markdown",
      "metadata": {
        "id": "view-in-github",
        "colab_type": "text"
      },
      "source": [
        "<a href=\"https://colab.research.google.com/github/DannyData1419/my_pies/blob/main/CM4708_DS_Trends_%2B_Applications_RAG_Sample_Demo.ipynb\" target=\"_parent\"><img src=\"https://colab.research.google.com/assets/colab-badge.svg\" alt=\"Open In Colab\"/></a>"
      ]
    },
    {
      "cell_type": "markdown",
      "metadata": {
        "id": "nawk04xWC22t"
      },
      "source": [
        "# CM4708 DS Trends + Applications - RAG Sample Demo\n",
        "Answering Questions with HuggingFace Pipelines and Streamlit with LocalTunnel\n",
        "* [Streamlit + Colab without ngrok - localtunnel](https://www.youtube.com/watch?v=NEhrkeF2o_M)"
      ]
    },
    {
      "cell_type": "markdown",
      "metadata": {
        "id": "s2sNIVS12Q1l"
      },
      "source": [
        "## 1. Install Streamlit"
      ]
    },
    {
      "cell_type": "code",
      "execution_count": 6,
      "metadata": {
        "id": "ang9RL5aCjMe"
      },
      "outputs": [],
      "source": [
        "!pip install -q streamlit"
      ]
    },
    {
      "cell_type": "markdown",
      "metadata": {
        "id": "FbD2frehVW9S"
      },
      "source": [
        "* Create dummy `app.py` for testing if required\n",
        "```python\n",
        "%%writefile app.py\n",
        "import streamlit as st\n",
        "st.title(\"Hello world\")\n",
        "```"
      ]
    },
    {
      "cell_type": "markdown",
      "metadata": {
        "id": "mjMdhZReguuK"
      },
      "source": [
        "## 2. Import `.py` and `.csv` files from Github repo\n",
        "* [3 Approaches to Import .py Files in Google Colab](https://www.askpython.com/python/examples/import-py-files-google-colab#:~:text=They%20are%20all%20already%20available,which%20stands%20for%20IPython%20Notebook.)"
      ]
    },
    {
      "cell_type": "code",
      "execution_count": 7,
      "metadata": {
        "id": "4A-JpABxrt-3"
      },
      "outputs": [],
      "source": [
        "!wget -q https://raw.githubusercontent.com/DannyData1419/my_pies/main/answering_questions_with_huggingface_pipelines_and_streamlit.py # Import .py script"
      ]
    },
    {
      "cell_type": "markdown",
      "metadata": {
        "id": "IlCIx7hBgxFr"
      },
      "source": [
        "## 3. Get endpoint IP address\n",
        "* When running Streamlit the URL will require an endpoint IP address. Copy the below output IP address, will be similar to \"`34.138.217.45`\".\n",
        "* To access the website, please confirm the tunnel creator's public IP below:\n",
        "  * Paste \"`34.138.217.45`\"\n",
        "* Can also share IP address for users to view web page"
      ]
    },
    {
      "cell_type": "code",
      "execution_count": 8,
      "metadata": {
        "colab": {
          "base_uri": "https://localhost:8080/"
        },
        "id": "CyNQRsvLIlVH",
        "outputId": "ce6fe0f9-464b-47ee-8ed0-87944b6b2754"
      },
      "outputs": [
        {
          "output_type": "stream",
          "name": "stdout",
          "text": [
            "35.227.84.174\n"
          ]
        }
      ],
      "source": [
        "! wget -q -O - ipv4.icanhazip.com"
      ]
    },
    {
      "cell_type": "markdown",
      "metadata": {
        "id": "0bJsf-SgeIsa"
      },
      "source": [
        "## 4. Run Streamlit\n",
        "* Include the `\"myApp.py\"` application\n",
        "```python\n",
        "! streamlit run \"myApp.py\" & npx localtunnel --port 8501\n",
        "```\n",
        "\n"
      ]
    },
    {
      "cell_type": "code",
      "execution_count": 9,
      "metadata": {
        "colab": {
          "base_uri": "https://localhost:8080/"
        },
        "id": "bPNsrnsJDX5s",
        "outputId": "25b12115-9ac5-44bd-e54c-c8333dbb8d4e"
      },
      "outputs": [
        {
          "output_type": "stream",
          "name": "stdout",
          "text": [
            "[..................] \\ fetchMetadata: sill resolveWithNewModule localtunnel@2.0\u001b[0m\u001b[K\n",
            "Collecting usage statistics. To deactivate, set browser.gatherUsageStats to False.\n",
            "\u001b[0m\n",
            "\u001b[0m\n",
            "\u001b[34m\u001b[1m  You can now view your Streamlit app in your browser.\u001b[0m\n",
            "\u001b[0m\n",
            "\u001b[34m  Network URL: \u001b[0m\u001b[1mhttp://172.28.0.12:8501\u001b[0m\n",
            "\u001b[34m  External URL: \u001b[0m\u001b[1mhttp://35.227.84.174:8501\u001b[0m\n",
            "\u001b[0m\n",
            "\u001b[K\u001b[?25hnpx: installed 22 in 2.827s\n",
            "your url is: https://funny-weeks-fold.loca.lt\n",
            "2024-02-25 17:08:11.936202: E external/local_xla/xla/stream_executor/cuda/cuda_dnn.cc:9261] Unable to register cuDNN factory: Attempting to register factory for plugin cuDNN when one has already been registered\n",
            "2024-02-25 17:08:11.936287: E external/local_xla/xla/stream_executor/cuda/cuda_fft.cc:607] Unable to register cuFFT factory: Attempting to register factory for plugin cuFFT when one has already been registered\n",
            "2024-02-25 17:08:11.939646: E external/local_xla/xla/stream_executor/cuda/cuda_blas.cc:1515] Unable to register cuBLAS factory: Attempting to register factory for plugin cuBLAS when one has already been registered\n",
            "2024-02-25 17:08:13.419250: W tensorflow/compiler/tf2tensorrt/utils/py_utils.cc:38] TF-TRT Warning: Could not find TensorRT\n",
            "No model was supplied, defaulted to distilbert-base-cased-distilled-squad and revision 626af31 (https://huggingface.co/distilbert-base-cased-distilled-squad).\n",
            "Using a pipeline without specifying a model name and revision in production is not recommended.\n",
            "No model was supplied, defaulted to distilbert-base-cased-distilled-squad and revision 626af31 (https://huggingface.co/distilbert-base-cased-distilled-squad).\n",
            "Using a pipeline without specifying a model name and revision in production is not recommended.\n",
            "No model was supplied, defaulted to distilbert-base-cased-distilled-squad and revision 626af31 (https://huggingface.co/distilbert-base-cased-distilled-squad).\n",
            "Using a pipeline without specifying a model name and revision in production is not recommended.\n",
            "No model was supplied, defaulted to distilbert-base-cased-distilled-squad and revision 626af31 (https://huggingface.co/distilbert-base-cased-distilled-squad).\n",
            "Using a pipeline without specifying a model name and revision in production is not recommended.\n",
            "No model was supplied, defaulted to distilbert-base-cased-distilled-squad and revision 626af31 (https://huggingface.co/distilbert-base-cased-distilled-squad).\n",
            "Using a pipeline without specifying a model name and revision in production is not recommended.\n",
            "No model was supplied, defaulted to distilbert-base-cased-distilled-squad and revision 626af31 (https://huggingface.co/distilbert-base-cased-distilled-squad).\n",
            "Using a pipeline without specifying a model name and revision in production is not recommended.\n",
            "\u001b[34m  Stopping...\u001b[0m\n",
            "^C\n"
          ]
        }
      ],
      "source": [
        "! streamlit run answering_questions_with_huggingface_pipelines_and_streamlit.py & npx localtunnel --port 8501"
      ]
    }
  ],
  "metadata": {
    "colab": {
      "provenance": [],
      "authorship_tag": "ABX9TyMRb8Q+vc6TaJjBgJRla7RN",
      "include_colab_link": true
    },
    "kernelspec": {
      "display_name": "Python 3",
      "name": "python3"
    },
    "language_info": {
      "name": "python"
    }
  },
  "nbformat": 4,
  "nbformat_minor": 0
}